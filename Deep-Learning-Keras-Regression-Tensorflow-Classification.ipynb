{
 "cells": [
  {
   "cell_type": "markdown",
   "id": "c748cdde",
   "metadata": {},
   "source": [
    "# Deep Learning Project Report: Sleep Health and Lifestyle Analysis and Study"
   ]
  },
  {
   "cell_type": "markdown",
   "id": "f8f5a37f",
   "metadata": {},
   "source": [
    "# Abstract"
   ]
  },
  {
   "cell_type": "markdown",
   "id": "1fce6089",
   "metadata": {},
   "source": [
    "Sleep disorder problem is a big problem in the United States, which affects millions of people here. The sleep disorder usually involves the problem with sleeping quality, quantity and sleep duration time. Thus, sleep health and lifestyle really matter to everyone’s life currently. This project focuses on using the deep learning learnt from this course, particularly with Keras and TensorFlow APIs, to analyze the residents’ sleep quality and lifestyle, and from there to give some insights and tips on the residents’ sleep habits and possible effects on the people’s lifestyle. More specifically, from this project, we also want to give some insights about current people's sleep quality, as well as some suggestions and recommendations for the current generation’s sleeping style. This project can be a good reference for researchers, health related professions and the public caring about public health and sleep quality."
   ]
  },
  {
   "cell_type": "markdown",
   "id": "b3b6d838",
   "metadata": {},
   "source": [
    "# Problem Statement"
   ]
  },
  {
   "cell_type": "markdown",
   "id": "a60828c6",
   "metadata": {},
   "source": [
    "With the provided prevalence and impact of sleep disorders, I am going to explore the relationships that exist between individuals’ health metrics, lifestyle characteristics, and sleep disorder status. In particular, I am interested in whether these relationships could be used to predict an individual's risk of developing a sleep disorder, for preventative and diagnostic purposes with the technology learnt from this deep learning course including but not limited to Keras and TensorFlow APIs.\n",
    "\n",
    "I am going to explore these relationships using a dataset containing health metrics (age, heart rate, BMI category, etc.), lifestyle factors (physical activity level, stress level, occupation, etc.) and sleep disorder status (None, Insomnia, and Sleep Apnea). This dataset is retrieved from the kaggle.com\n",
    "\n",
    "The questions can be more specific such as can I use this health and lifestyle features from my dataset to predict whether someone has a sleep disorder. Or can I accurately predict whether someone has a sleep disorder? If so, can it differentiate between sleep apnea and insomnia. Besides, I can also ask questions like which sleep health and lifestyle factors are most correlated with sleep disorder status? How do these correlations change for sleep apnea vs. insomnia? And what are the causal relationships between sleep disorder status and health metrics and lifestyle factors, and how do these factors influence these relationships (while accounting for potential confounding variables)? All the above and relevant questions can be asked for this project.\n"
   ]
  },
  {
   "cell_type": "markdown",
   "id": "eb049ea8",
   "metadata": {},
   "source": [
    "# Data Description"
   ]
  },
  {
   "cell_type": "markdown",
   "id": "a4b95f28",
   "metadata": {},
   "source": [
    "## Data Outline"
   ]
  },
  {
   "cell_type": "markdown",
   "id": "1027f94c",
   "metadata": {},
   "source": [
    "The dataset includes various health and lifestyle factors for all surveyed individuals, including the following variables:\n",
    "\n",
    "●\t Person ID: A unique identifier for everyone.\n",
    "\n",
    "●\t Age: The age of the person in years.\n",
    "\n",
    "●\t Gender: Information on the gender of the individual.\n",
    "\n",
    "●\t Occupation: The individual’s occupation.\n",
    "\n",
    "●\t Sleep Duration: Hours of sleep per night.\n",
    "\n",
    "●\t Quality of Sleep: A subjective rating of sleep quality on a scale of 1 to 10.\n",
    "\n",
    "●\t Physical Activity Level: The number of minutes of physical activity per day.\n",
    "\n",
    "●\t Stress Level: A stress rating on a scale of 1 to 10.\n",
    "\n",
    "●\t BMI Category: A classification of body mass index (BMI) into underweight, normal, or overweight.\n",
    "\n",
    "●\t Blood Pressure: Measured in systolic/diastolic units.\n",
    "\n",
    "●\t Heart Rate: The individual’s resting heart rate in beats per minute (bpm).\n",
    "\n",
    "●\t Daily Steps: The number of steps taken per day.\n",
    "\n",
    "●\t Sleep Disorder: Categorized as none, insomnia, or sleep apnea."
   ]
  },
  {
   "cell_type": "code",
   "execution_count": 1,
   "id": "7dcb3a52",
   "metadata": {},
   "outputs": [],
   "source": [
    "import pandas as pd"
   ]
  },
  {
   "cell_type": "code",
   "execution_count": 2,
   "id": "3d30ff71",
   "metadata": {
    "scrolled": true
   },
   "outputs": [
    {
     "data": {
      "text/html": [
       "<div>\n",
       "<style scoped>\n",
       "    .dataframe tbody tr th:only-of-type {\n",
       "        vertical-align: middle;\n",
       "    }\n",
       "\n",
       "    .dataframe tbody tr th {\n",
       "        vertical-align: top;\n",
       "    }\n",
       "\n",
       "    .dataframe thead th {\n",
       "        text-align: right;\n",
       "    }\n",
       "</style>\n",
       "<table border=\"1\" class=\"dataframe\">\n",
       "  <thead>\n",
       "    <tr style=\"text-align: right;\">\n",
       "      <th></th>\n",
       "      <th>Person ID</th>\n",
       "      <th>Gender</th>\n",
       "      <th>Age</th>\n",
       "      <th>Occupation</th>\n",
       "      <th>Sleep Duration</th>\n",
       "      <th>Quality of Sleep</th>\n",
       "      <th>Physical Activity Level</th>\n",
       "      <th>Stress Level</th>\n",
       "      <th>BMI Category</th>\n",
       "      <th>Blood Pressure</th>\n",
       "      <th>Heart Rate</th>\n",
       "      <th>Daily Steps</th>\n",
       "      <th>Sleep Disorder</th>\n",
       "    </tr>\n",
       "  </thead>\n",
       "  <tbody>\n",
       "    <tr>\n",
       "      <th>0</th>\n",
       "      <td>1</td>\n",
       "      <td>Male</td>\n",
       "      <td>27</td>\n",
       "      <td>Software Engineer</td>\n",
       "      <td>6.1</td>\n",
       "      <td>6</td>\n",
       "      <td>42</td>\n",
       "      <td>6</td>\n",
       "      <td>Overweight</td>\n",
       "      <td>126/83</td>\n",
       "      <td>77</td>\n",
       "      <td>4200</td>\n",
       "      <td>None</td>\n",
       "    </tr>\n",
       "    <tr>\n",
       "      <th>1</th>\n",
       "      <td>2</td>\n",
       "      <td>Male</td>\n",
       "      <td>28</td>\n",
       "      <td>Doctor</td>\n",
       "      <td>6.2</td>\n",
       "      <td>6</td>\n",
       "      <td>60</td>\n",
       "      <td>8</td>\n",
       "      <td>Normal</td>\n",
       "      <td>125/80</td>\n",
       "      <td>75</td>\n",
       "      <td>10000</td>\n",
       "      <td>None</td>\n",
       "    </tr>\n",
       "    <tr>\n",
       "      <th>2</th>\n",
       "      <td>3</td>\n",
       "      <td>Male</td>\n",
       "      <td>28</td>\n",
       "      <td>Doctor</td>\n",
       "      <td>6.2</td>\n",
       "      <td>6</td>\n",
       "      <td>60</td>\n",
       "      <td>8</td>\n",
       "      <td>Normal</td>\n",
       "      <td>125/80</td>\n",
       "      <td>75</td>\n",
       "      <td>10000</td>\n",
       "      <td>None</td>\n",
       "    </tr>\n",
       "    <tr>\n",
       "      <th>3</th>\n",
       "      <td>4</td>\n",
       "      <td>Male</td>\n",
       "      <td>28</td>\n",
       "      <td>Sales Representative</td>\n",
       "      <td>5.9</td>\n",
       "      <td>4</td>\n",
       "      <td>30</td>\n",
       "      <td>8</td>\n",
       "      <td>Obese</td>\n",
       "      <td>140/90</td>\n",
       "      <td>85</td>\n",
       "      <td>3000</td>\n",
       "      <td>Sleep Apnea</td>\n",
       "    </tr>\n",
       "    <tr>\n",
       "      <th>4</th>\n",
       "      <td>5</td>\n",
       "      <td>Male</td>\n",
       "      <td>28</td>\n",
       "      <td>Sales Representative</td>\n",
       "      <td>5.9</td>\n",
       "      <td>4</td>\n",
       "      <td>30</td>\n",
       "      <td>8</td>\n",
       "      <td>Obese</td>\n",
       "      <td>140/90</td>\n",
       "      <td>85</td>\n",
       "      <td>3000</td>\n",
       "      <td>Sleep Apnea</td>\n",
       "    </tr>\n",
       "  </tbody>\n",
       "</table>\n",
       "</div>"
      ],
      "text/plain": [
       "   Person ID Gender  Age            Occupation  Sleep Duration  \\\n",
       "0          1   Male   27     Software Engineer             6.1   \n",
       "1          2   Male   28                Doctor             6.2   \n",
       "2          3   Male   28                Doctor             6.2   \n",
       "3          4   Male   28  Sales Representative             5.9   \n",
       "4          5   Male   28  Sales Representative             5.9   \n",
       "\n",
       "   Quality of Sleep  Physical Activity Level  Stress Level BMI Category  \\\n",
       "0                 6                       42             6   Overweight   \n",
       "1                 6                       60             8       Normal   \n",
       "2                 6                       60             8       Normal   \n",
       "3                 4                       30             8        Obese   \n",
       "4                 4                       30             8        Obese   \n",
       "\n",
       "  Blood Pressure  Heart Rate  Daily Steps Sleep Disorder  \n",
       "0         126/83          77         4200           None  \n",
       "1         125/80          75        10000           None  \n",
       "2         125/80          75        10000           None  \n",
       "3         140/90          85         3000    Sleep Apnea  \n",
       "4         140/90          85         3000    Sleep Apnea  "
      ]
     },
     "execution_count": 2,
     "metadata": {},
     "output_type": "execute_result"
    }
   ],
   "source": [
    "# csv to dataframe\n",
    "df = pd.read_csv(\"Sleep_health_and_lifestyle_dataset.csv\")\n",
    "df2 = df\n",
    "# head of dataframe\n",
    "df.head()"
   ]
  },
  {
   "cell_type": "markdown",
   "id": "c78887eb",
   "metadata": {},
   "source": [
    "From the above printed data frame, I can see that particularly in the last column ‘sleep disorder’, it has many empty Nan contents there, this means the person does not have either insomnia or sleep apnea.\n",
    "\n",
    "The following is for the attributes of all categories’ information; Let us see how much diversity for each of the categories:"
   ]
  },
  {
   "cell_type": "code",
   "execution_count": 3,
   "id": "7ed1e5c9",
   "metadata": {},
   "outputs": [
    {
     "name": "stdout",
     "output_type": "stream",
     "text": [
      "Unique occupations: ['Software Engineer' 'Doctor' 'Sales Representative' 'Teacher' 'Nurse'\n",
      " 'Engineer' 'Accountant' 'Scientist' 'Lawyer' 'Salesperson' 'Manager']\n",
      "Unique BMI: ['Overweight' 'Normal' 'Obese' 'Normal Weight']\n",
      "Unique Sleep Disorder: ['None' 'Sleep Apnea' 'Insomnia']\n"
     ]
    }
   ],
   "source": [
    "unique_occupations = df['Occupation'].unique()\n",
    "print(f\"Unique occupations: {unique_occupations}\" )\n",
    "\n",
    "unique_BMI = df['BMI Category'].unique()\n",
    "print(f\"Unique BMI: {unique_BMI}\" )\n",
    "\n",
    "unique_SleepDisorder = df['Sleep Disorder'].unique()\n",
    "print(f\"Unique Sleep Disorder: {unique_SleepDisorder}\" )"
   ]
  },
  {
   "cell_type": "markdown",
   "id": "6e2f7978",
   "metadata": {},
   "source": [
    "As the category classification, we can see that: per occupation, there are a total of eleven types ranging from teacher to software engineer. This kind of covers most of the common occupations in our society. And the original datasets already provided the BMI with normal, overweight, normal weight and obese. And the sleep disorder types have the None which stands for no sleep order, besides the sleep apnea and insomnia."
   ]
  },
  {
   "cell_type": "markdown",
   "id": "59138b8a",
   "metadata": {},
   "source": [
    "## Gender"
   ]
  },
  {
   "cell_type": "code",
   "execution_count": 4,
   "id": "b3c23eda",
   "metadata": {},
   "outputs": [],
   "source": [
    "import matplotlib.pyplot as plt"
   ]
  },
  {
   "cell_type": "markdown",
   "id": "2dcfb446",
   "metadata": {},
   "source": [
    "Let’s first look at the gender ratio. Per the gender ratio, male and female are having a similar ratio in the datasets with 189 males and 185 females, that is saying the ratio per gender is balanced in the collected survey data. This shows there will not be likely to be a biased analysis per the gender side."
   ]
  },
  {
   "cell_type": "code",
   "execution_count": 5,
   "id": "2c5da658",
   "metadata": {},
   "outputs": [
    {
     "name": "stdout",
     "output_type": "stream",
     "text": [
      "Value counts:\n",
      "Male      189\n",
      "Female    185\n",
      "Name: Gender, dtype: int64\n"
     ]
    },
    {
     "data": {
      "image/png": "[encoded data removed]",
      "text/plain": [
       "<Figure size 432x288 with 1 Axes>"
      ]
     },
     "metadata": {
      "needs_background": "light"
     },
     "output_type": "display_data"
    }
   ],
   "source": [
    "column = 'Gender'\n",
    "unique_values = df[column].unique()\n",
    "unique_counts = df[column].value_counts()\n",
    "\n",
    "print(\"Value counts:\")\n",
    "print(unique_counts)\n",
    "\n",
    "plt.figure()\n",
    "plt.bar(unique_values, df[column].value_counts())\n",
    "plt.title(f\"Distribution of {column}\")\n",
    "plt.xlabel(column)\n",
    "plt.ylabel(\"Frequency\")\n",
    "plt.show()"
   ]
  },
  {
   "cell_type": "markdown",
   "id": "dcfe767a",
   "metadata": {},
   "source": [
    "## Age"
   ]
  },
  {
   "cell_type": "code",
   "execution_count": 6,
   "id": "b5cb0d68",
   "metadata": {},
   "outputs": [
    {
     "name": "stdout",
     "output_type": "stream",
     "text": [
      "The range of age values is: 27-59\n",
      "The mean of age values is: 42.18449197860963\n"
     ]
    },
    {
     "data": {
      "image/png": "[encoded data removed]",
      "text/plain": [
       "<Figure size 720x432 with 1 Axes>"
      ]
     },
     "metadata": {
      "needs_background": "light"
     },
     "output_type": "display_data"
    }
   ],
   "source": [
    "print(f\"The range of age values is: {df['Age'].min()}-{df['Age'].max()}\")\n",
    "print(f\"The mean of age values is: {df['Age'].mean()}\")\n",
    "\n",
    "# bins for age groups\n",
    "bins = range(15, 81, 5)  \n",
    "labels = [f\"{i}-{i+5}\" for i in bins[:-1]]\n",
    "\n",
    "# Bin the 'Age' column\n",
    "df['Age_Group'] = pd.cut(df['Age'], bins=bins, labels=labels, include_lowest=True)\n",
    "\n",
    "# histogram of the Age groups\n",
    "plt.figure(figsize=(10, 6))\n",
    "plt.hist(df['Age_Group'], bins=len(labels), edgecolor='black')\n",
    "plt.xlabel('Age Group')\n",
    "plt.ylabel('Frequency')\n",
    "plt.title('Distribution of Age Groups')\n",
    "plt.xticks(rotation=45)\n",
    "plt.show()"
   ]
  },
  {
   "cell_type": "markdown",
   "id": "2cd49a7d",
   "metadata": {},
   "source": [
    "## Occupation"
   ]
  },
  {
   "cell_type": "markdown",
   "id": "1392563d",
   "metadata": {},
   "source": [
    "In the plotted occupation bar chart, we can see the nurse, doctor and engineer are the top 3 occupations in these datasets, but managers, sales representative and scientists are the least three occupations for this survey. We can guess that scientists are the least representative in society as not many scientific positions. But for managers as we know there are many occupations about managers in the job markets. I guess these data are not widely covering all the occupation types, and this may lead to biased results of this analysis report, but this report can also be a representative one per the sleep quality and the public health conditions."
   ]
  },
  {
   "cell_type": "code",
   "execution_count": 7,
   "id": "51b1674a",
   "metadata": {
    "scrolled": false
   },
   "outputs": [
    {
     "name": "stdout",
     "output_type": "stream",
     "text": [
      "Value counts:\n",
      "Nurse                   73\n",
      "Doctor                  71\n",
      "Engineer                63\n",
      "Lawyer                  47\n",
      "Teacher                 40\n",
      "Accountant              37\n",
      "Salesperson             32\n",
      "Software Engineer        4\n",
      "Scientist                4\n",
      "Sales Representative     2\n",
      "Manager                  1\n",
      "Name: Occupation, dtype: int64\n"
     ]
    },
    {
     "data": {
      "image/png": "[encoded data removed]",
      "text/plain": [
       "<Figure size 1296x432 with 1 Axes>"
      ]
     },
     "metadata": {
      "needs_background": "light"
     },
     "output_type": "display_data"
    }
   ],
   "source": [
    "column = 'Occupation'\n",
    "unique_counts = df[column].value_counts()\n",
    "\n",
    "print(\"Value counts:\")\n",
    "print(unique_counts)\n",
    "\n",
    "plt.figure(figsize=(18,6))\n",
    "plt.bar(unique_counts.index, unique_counts.values,color='orange')\n",
    "plt.title(f\"Distribution of {column}\")\n",
    "plt.xlabel(column)\n",
    "plt.ylabel(\"Frequency\")\n",
    "plt.xticks(rotation=45)  # Rotate labels as they are too long\n",
    "plt.show()"
   ]
  },
  {
   "cell_type": "markdown",
   "id": "3b524070",
   "metadata": {},
   "source": [
    "## Sleep Quality"
   ]
  },
  {
   "cell_type": "code",
   "execution_count": 8,
   "id": "093ac80e",
   "metadata": {},
   "outputs": [],
   "source": [
    "import numpy as np"
   ]
  },
  {
   "cell_type": "markdown",
   "id": "c75b5563",
   "metadata": {},
   "source": [
    "From the plot, the overall sleep quality is good, the majority have good ratings here. Although the surveyed data did not offer a specific definition of what range represents good sleep quality. However, we can see from the histogram that it is left skewed so we can see the majority is beyond the average sleep rating. Thus, we can conclude most of the sleep quality is good with ratings beyond 6. From the data we can see generally speaking, the residents get good sleep quality within this survey scope."
   ]
  },
  {
   "cell_type": "code",
   "execution_count": 9,
   "id": "af6f50fc",
   "metadata": {
    "scrolled": false
   },
   "outputs": [
    {
     "name": "stdout",
     "output_type": "stream",
     "text": [
      "The range of sleep quality values is: 4-9\n"
     ]
    },
    {
     "data": {
      "image/png": "[encoded data removed]",
      "text/plain": [
       "<Figure size 864x432 with 1 Axes>"
      ]
     },
     "metadata": {
      "needs_background": "light"
     },
     "output_type": "display_data"
    }
   ],
   "source": [
    "# Display range of sleep quality values\n",
    "print(f\"The range of sleep quality values is: {df['Quality of Sleep'].min()}-{df['Quality of Sleep'].max()}\")\n",
    "\n",
    "# Define bins in increments of 1 for sleep quality\n",
    "bins = np.arange(df['Quality of Sleep'].min(), df['Quality of Sleep'].max() + 2, 1)\n",
    "\n",
    "# Plot histogram directly on 'Sleep Quality' column\n",
    "plt.figure(figsize=(12, 6))\n",
    "plt.hist(df['Quality of Sleep'], bins=bins, edgecolor='black', color='green')\n",
    "plt.xlabel('Quality of Sleep')\n",
    "plt.ylabel('Frequency')\n",
    "plt.title('Distribution of Sleep Quality Ratings')\n",
    "plt.xticks(bins)  \n",
    "plt.grid()\n",
    "plt.show()"
   ]
  },
  {
   "cell_type": "markdown",
   "id": "5cb0fbb9",
   "metadata": {},
   "source": [
    "# Sleep Disorder Classification"
   ]
  },
  {
   "cell_type": "markdown",
   "id": "2b23db64",
   "metadata": {},
   "source": [
    "In the below, I first approach this as a classification problem, that is predicting Sleep Disorder and regression problem (e.g., predicting Quality of Sleep or Sleep Duration). Below are the deep learning analyses I performed:\n",
    "\n",
    "Per the input, I use all numeric and encoded categorical features. Per the output, it should output the multiclass classification, that is None, Sleep Apnea, or Insomnia. The model I used is Feedforward Neural Network using keras.Sequential package.\n",
    "\n",
    "And per the parameters chose, I choose 20 percent as the testing dataset, and the rest 80 percent as the training dataset. The echos I chose 49 here."
   ]
  },
  {
   "cell_type": "code",
   "execution_count": 10,
   "id": "1289ee6c",
   "metadata": {
    "scrolled": false
   },
   "outputs": [
    {
     "name": "stdout",
     "output_type": "stream",
     "text": [
      "Epoch 1/49\n",
      "15/15 [==============================] - 1s 14ms/step - loss: 1.0682 - accuracy: 0.4686 - val_loss: 0.8901 - val_accuracy: 0.7000\n",
      "Epoch 2/49\n",
      "15/15 [==============================] - 0s 3ms/step - loss: 0.7735 - accuracy: 0.8577 - val_loss: 0.6721 - val_accuracy: 0.9000\n",
      "Epoch 3/49\n",
      "15/15 [==============================] - 0s 3ms/step - loss: 0.5886 - accuracy: 0.8996 - val_loss: 0.5224 - val_accuracy: 0.9000\n",
      "Epoch 4/49\n",
      "15/15 [==============================] - 0s 3ms/step - loss: 0.4610 - accuracy: 0.8996 - val_loss: 0.4288 - val_accuracy: 0.9000\n",
      "Epoch 5/49\n",
      "15/15 [==============================] - 0s 3ms/step - loss: 0.3875 - accuracy: 0.8996 - val_loss: 0.3852 - val_accuracy: 0.9000\n",
      "Epoch 6/49\n",
      "15/15 [==============================] - 0s 3ms/step - loss: 0.3531 - accuracy: 0.9121 - val_loss: 0.3663 - val_accuracy: 0.9000\n",
      "Epoch 7/49\n",
      "15/15 [==============================] - 0s 3ms/step - loss: 0.3295 - accuracy: 0.9163 - val_loss: 0.3642 - val_accuracy: 0.8833\n",
      "Epoch 8/49\n",
      "15/15 [==============================] - 0s 3ms/step - loss: 0.3191 - accuracy: 0.9163 - val_loss: 0.3653 - val_accuracy: 0.8833\n",
      "Epoch 9/49\n",
      "15/15 [==============================] - 0s 3ms/step - loss: 0.3107 - accuracy: 0.9247 - val_loss: 0.3635 - val_accuracy: 0.8833\n",
      "Epoch 10/49\n",
      "15/15 [==============================] - 0s 3ms/step - loss: 0.3037 - accuracy: 0.9247 - val_loss: 0.3621 - val_accuracy: 0.8833\n",
      "Epoch 11/49\n",
      "15/15 [==============================] - 0s 3ms/step - loss: 0.2992 - accuracy: 0.9205 - val_loss: 0.3611 - val_accuracy: 0.8833\n",
      "Epoch 12/49\n",
      "15/15 [==============================] - 0s 3ms/step - loss: 0.2916 - accuracy: 0.9247 - val_loss: 0.3666 - val_accuracy: 0.8833\n",
      "Epoch 13/49\n",
      "15/15 [==============================] - 0s 3ms/step - loss: 0.2875 - accuracy: 0.9331 - val_loss: 0.3647 - val_accuracy: 0.8833\n",
      "Epoch 14/49\n",
      "15/15 [==============================] - 0s 3ms/step - loss: 0.2830 - accuracy: 0.9331 - val_loss: 0.3606 - val_accuracy: 0.8833\n",
      "Epoch 15/49\n",
      "15/15 [==============================] - 0s 3ms/step - loss: 0.2783 - accuracy: 0.9331 - val_loss: 0.3635 - val_accuracy: 0.8833\n",
      "Epoch 16/49\n",
      "15/15 [==============================] - 0s 3ms/step - loss: 0.2755 - accuracy: 0.9331 - val_loss: 0.3643 - val_accuracy: 0.8833\n",
      "Epoch 17/49\n",
      "15/15 [==============================] - 0s 3ms/step - loss: 0.2731 - accuracy: 0.9331 - val_loss: 0.3660 - val_accuracy: 0.8833\n",
      "Epoch 18/49\n",
      "15/15 [==============================] - 0s 3ms/step - loss: 0.2678 - accuracy: 0.9331 - val_loss: 0.3670 - val_accuracy: 0.9000\n",
      "Epoch 19/49\n",
      "15/15 [==============================] - 0s 3ms/step - loss: 0.2669 - accuracy: 0.9331 - val_loss: 0.3629 - val_accuracy: 0.9000\n",
      "Epoch 20/49\n",
      "15/15 [==============================] - 0s 3ms/step - loss: 0.2649 - accuracy: 0.9331 - val_loss: 0.3730 - val_accuracy: 0.8833\n",
      "Epoch 21/49\n",
      "15/15 [==============================] - 0s 3ms/step - loss: 0.2606 - accuracy: 0.9331 - val_loss: 0.3663 - val_accuracy: 0.9000\n",
      "Epoch 22/49\n",
      "15/15 [==============================] - 0s 3ms/step - loss: 0.2570 - accuracy: 0.9331 - val_loss: 0.3725 - val_accuracy: 0.9000\n",
      "Epoch 23/49\n",
      "15/15 [==============================] - 0s 3ms/step - loss: 0.2543 - accuracy: 0.9331 - val_loss: 0.3769 - val_accuracy: 0.9000\n",
      "Epoch 24/49\n",
      "15/15 [==============================] - 0s 3ms/step - loss: 0.2516 - accuracy: 0.9331 - val_loss: 0.3710 - val_accuracy: 0.9167\n",
      "Epoch 25/49\n",
      "15/15 [==============================] - 0s 3ms/step - loss: 0.2485 - accuracy: 0.9331 - val_loss: 0.3723 - val_accuracy: 0.9167\n",
      "Epoch 26/49\n",
      "15/15 [==============================] - 0s 3ms/step - loss: 0.2460 - accuracy: 0.9372 - val_loss: 0.3733 - val_accuracy: 0.9167\n",
      "Epoch 27/49\n",
      "15/15 [==============================] - 0s 3ms/step - loss: 0.2461 - accuracy: 0.9372 - val_loss: 0.3825 - val_accuracy: 0.9167\n",
      "Epoch 28/49\n",
      "15/15 [==============================] - 0s 3ms/step - loss: 0.2431 - accuracy: 0.9372 - val_loss: 0.3743 - val_accuracy: 0.9167\n",
      "Epoch 29/49\n",
      "15/15 [==============================] - 0s 3ms/step - loss: 0.2409 - accuracy: 0.9331 - val_loss: 0.3790 - val_accuracy: 0.9167\n",
      "Epoch 30/49\n",
      "15/15 [==============================] - 0s 3ms/step - loss: 0.2412 - accuracy: 0.9372 - val_loss: 0.3791 - val_accuracy: 0.9167\n",
      "Epoch 31/49\n",
      "15/15 [==============================] - 0s 3ms/step - loss: 0.2434 - accuracy: 0.9331 - val_loss: 0.3818 - val_accuracy: 0.9167\n",
      "Epoch 32/49\n",
      "15/15 [==============================] - 0s 3ms/step - loss: 0.2389 - accuracy: 0.9372 - val_loss: 0.3877 - val_accuracy: 0.9167\n",
      "Epoch 33/49\n",
      "15/15 [==============================] - 0s 3ms/step - loss: 0.2377 - accuracy: 0.9372 - val_loss: 0.3830 - val_accuracy: 0.9167\n",
      "Epoch 34/49\n",
      "15/15 [==============================] - 0s 3ms/step - loss: 0.2361 - accuracy: 0.9372 - val_loss: 0.3866 - val_accuracy: 0.9167\n",
      "Epoch 35/49\n",
      "15/15 [==============================] - 0s 3ms/step - loss: 0.2326 - accuracy: 0.9372 - val_loss: 0.3896 - val_accuracy: 0.9167\n",
      "Epoch 36/49\n",
      "15/15 [==============================] - 0s 3ms/step - loss: 0.2343 - accuracy: 0.9331 - val_loss: 0.3893 - val_accuracy: 0.9167\n",
      "Epoch 37/49\n",
      "15/15 [==============================] - 0s 3ms/step - loss: 0.2310 - accuracy: 0.9372 - val_loss: 0.3887 - val_accuracy: 0.9167\n",
      "Epoch 38/49\n",
      "15/15 [==============================] - 0s 3ms/step - loss: 0.2312 - accuracy: 0.9372 - val_loss: 0.3937 - val_accuracy: 0.9167\n",
      "Epoch 39/49\n",
      "15/15 [==============================] - 0s 3ms/step - loss: 0.2330 - accuracy: 0.9372 - val_loss: 0.3955 - val_accuracy: 0.9167\n",
      "Epoch 40/49\n",
      "15/15 [==============================] - 0s 3ms/step - loss: 0.2307 - accuracy: 0.9372 - val_loss: 0.3900 - val_accuracy: 0.9167\n",
      "Epoch 41/49\n",
      "15/15 [==============================] - 0s 3ms/step - loss: 0.2268 - accuracy: 0.9372 - val_loss: 0.4025 - val_accuracy: 0.9167\n",
      "Epoch 42/49\n",
      "15/15 [==============================] - 0s 3ms/step - loss: 0.2277 - accuracy: 0.9372 - val_loss: 0.4087 - val_accuracy: 0.9167\n",
      "Epoch 43/49\n",
      "15/15 [==============================] - 0s 3ms/step - loss: 0.2291 - accuracy: 0.9372 - val_loss: 0.3940 - val_accuracy: 0.9167\n",
      "Epoch 44/49\n",
      "15/15 [==============================] - 0s 3ms/step - loss: 0.2246 - accuracy: 0.9372 - val_loss: 0.4007 - val_accuracy: 0.9167\n",
      "Epoch 45/49\n",
      "15/15 [==============================] - 0s 3ms/step - loss: 0.2251 - accuracy: 0.9414 - val_loss: 0.4098 - val_accuracy: 0.9167\n",
      "Epoch 46/49\n",
      "15/15 [==============================] - 0s 3ms/step - loss: 0.2243 - accuracy: 0.9414 - val_loss: 0.3951 - val_accuracy: 0.9167\n",
      "Epoch 47/49\n",
      "15/15 [==============================] - 0s 3ms/step - loss: 0.2237 - accuracy: 0.9372 - val_loss: 0.4100 - val_accuracy: 0.9167\n",
      "Epoch 48/49\n",
      "15/15 [==============================] - 0s 3ms/step - loss: 0.2211 - accuracy: 0.9372 - val_loss: 0.4082 - val_accuracy: 0.9167\n",
      "Epoch 49/49\n",
      "15/15 [==============================] - 0s 3ms/step - loss: 0.2219 - accuracy: 0.9372 - val_loss: 0.4015 - val_accuracy: 0.9167\n",
      "3/3 [==============================] - 0s 3ms/step - loss: 0.4746 - accuracy: 0.9067\n",
      "Test Accuracy: 0.9067\n",
      "3/3 [==============================] - 0s 1ms/step\n",
      "\n",
      " Classification Report:\n",
      "              precision    recall  f1-score   support\n",
      "\n",
      "    Insomnia       0.89      0.94      0.91        17\n",
      "        None       0.98      0.89      0.93        45\n",
      " Sleep Apnea       0.75      0.92      0.83        13\n",
      "\n",
      "    accuracy                           0.91        75\n",
      "   macro avg       0.87      0.92      0.89        75\n",
      "weighted avg       0.92      0.91      0.91        75\n",
      "\n"
     ]
    }
   ],
   "source": [
    "# Sleep Disorder Classification Using Keras\n",
    "\n",
    "# Libraries\n",
    "from sklearn.model_selection import train_test_split\n",
    "from sklearn.preprocessing import StandardScaler, LabelEncoder, OneHotEncoder\n",
    "from sklearn.compose import ColumnTransformer\n",
    "from tensorflow.keras.models import Sequential\n",
    "from tensorflow.keras.layers import Dense\n",
    "from tensorflow.keras.utils import to_categorical\n",
    "from sklearn.metrics import classification_report\n",
    "\n",
    "# Dataset\n",
    "df = pd.read_csv(\"Sleep_health_and_lifestyle_dataset.csv\") \n",
    "\n",
    "# Preprocess Blood Pressure\n",
    "df[['Systolic', 'Diastolic']] = df['Blood Pressure'].str.split('/', expand=True).astype(float)\n",
    "df.drop(columns=['Person ID', 'Blood Pressure'], inplace=True)\n",
    "\n",
    "# Encode Target\n",
    "X = df.drop(columns=['Sleep Disorder'])\n",
    "y = df['Sleep Disorder']\n",
    "\n",
    "label_encoder = LabelEncoder()\n",
    "y_encoded = label_encoder.fit_transform(y)\n",
    "y_onehot = to_categorical(y_encoded)\n",
    "\n",
    "# Column Categories\n",
    "categorical_features = ['Gender', 'Occupation', 'BMI Category']\n",
    "numerical_features = X.drop(columns=categorical_features).columns.tolist()\n",
    "\n",
    "# Preprocessing Pipeline\n",
    "preprocessor = ColumnTransformer(transformers=[\n",
    "    ('num', StandardScaler(), numerical_features),\n",
    "    ('cat', OneHotEncoder(handle_unknown='ignore'), categorical_features)\n",
    "])\n",
    "\n",
    "X_processed = preprocessor.fit_transform(X)\n",
    "\n",
    "# Train/Test Split\n",
    "X_train, X_test, y_train, y_test = train_test_split(X_processed, y_onehot, test_size=0.2, random_state=123)\n",
    "\n",
    "# Build Neural Network Model\n",
    "model = Sequential([\n",
    "    Dense(64, activation='relu', input_shape=(X_train.shape[1],)),\n",
    "    Dense(32, activation='relu'),\n",
    "    Dense(y_onehot.shape[1], activation='softmax')\n",
    "])\n",
    "\n",
    "model.compile(optimizer='adam', loss='categorical_crossentropy', metrics=['accuracy'])\n",
    "\n",
    "# Train the Model\n",
    "history = model.fit(X_train, y_train, epochs=49, batch_size=16, validation_split=0.2, verbose=1)\n",
    "\n",
    "# Evaluate the Model\n",
    "loss, accuracy = model.evaluate(X_test, y_test)\n",
    "print(f\"Test Accuracy: {accuracy:.4f}\")\n",
    "\n",
    "# Classification Report\n",
    "y_pred = model.predict(X_test)\n",
    "y_pred_labels = np.argmax(y_pred, axis=1)\n",
    "y_test_labels = np.argmax(y_test, axis=1)\n",
    "\n",
    "print(\"\\n Classification Report:\")\n",
    "print(classification_report(y_test_labels, y_pred_labels, target_names=label_encoder.classes_))"
   ]
  },
  {
   "cell_type": "markdown",
   "id": "c8566ae0",
   "metadata": {},
   "source": [
    "The classification report below summarizes the performance of a deep learning classifier using Keras that predicts sleep disorders as the table above."
   ]
  },
  {
   "cell_type": "markdown",
   "id": "6fb14d35",
   "metadata": {},
   "source": [
    "And we can tell, per Insomnia, it is very strong performance with high recall 0.94 and good precision 0.89, meaning that this model identifies most Insomnia cases and makes few false alarms.\n",
    "\n",
    "As for the no disorder one, the highest precision is 0.98, but lower recall is 0.89, saying that it is excellent at confirming non-disorder but misses some real \"none\" cases.\n",
    "\n",
    "As for the sleep apnea: the lower precision 0.75 indicates more false positives, but strong recall 0.92 shows the model catches most actual cases.\n",
    "\n",
    "And let’s look at the overall model metrics. The accuracy of 91% of total predictions is correct. The macro average with simple average of all F1-scores. It treats all classes equally, which is good for imbalance analysis. Per the weighted average: the weighted average of F1-scores, considering how many instances each class has, sounds fairer when classes are imbalanced."
   ]
  },
  {
   "cell_type": "markdown",
   "id": "34585930",
   "metadata": {},
   "source": [
    "All above, this model performs very well overall with an accuracy of 91%. It performs best on the \"None\" class (which also has the most data), and reasonably well on \"Insomnia\". The \"Sleep Apnea\" has the lowest precision, that suggests some confusion with other classes, but it is still well-handled with high recall. The macro average F1-score of 0.89 indicates balanced performance across classes, despite different sample sizes."
   ]
  },
  {
   "cell_type": "code",
   "execution_count": 11,
   "id": "555d025c",
   "metadata": {},
   "outputs": [
    {
     "data": {
      "image/png": "[encoded data removed]",
      "text/plain": [
       "<Figure size 576x432 with 2 Axes>"
      ]
     },
     "metadata": {
      "needs_background": "light"
     },
     "output_type": "display_data"
    }
   ],
   "source": [
    "import seaborn as sns\n",
    "from sklearn.metrics import confusion_matrix\n",
    "\n",
    "# Confusion Matrix Visualization\n",
    "cm = confusion_matrix(y_test_labels, y_pred_labels)\n",
    "plt.figure(figsize=(8,6))\n",
    "sns.heatmap(cm, annot=True, fmt='d', cmap='Blues',\n",
    "            xticklabels=label_encoder.classes_,\n",
    "            yticklabels=label_encoder.classes_)\n",
    "plt.title('Confusion Matrix')\n",
    "plt.xlabel('Predicted Label')\n",
    "plt.ylabel('True Label')\n",
    "plt.tight_layout()\n",
    "plt.show()"
   ]
  },
  {
   "cell_type": "markdown",
   "id": "c4f1177f",
   "metadata": {},
   "source": [
    "# Sleep Quality Prediction using Keras by Regression"
   ]
  },
  {
   "cell_type": "markdown",
   "id": "8deebb93",
   "metadata": {},
   "source": [
    "Per the following I will do the sleep quality prediction: which is using the Lifestyle features such as Stress Level, Physical Activity as the input, and the output as the predict quality of sleep. So this is totally a regression problem."
   ]
  },
  {
   "cell_type": "code",
   "execution_count": 13,
   "id": "85f65243",
   "metadata": {
    "scrolled": false
   },
   "outputs": [
    {
     "name": "stdout",
     "output_type": "stream",
     "text": [
      "Epoch 1/49\n",
      "15/15 [==============================] - 1s 9ms/step - loss: 49.4824 - mae: 6.9278 - val_loss: 47.1460 - val_mae: 6.7743\n",
      "Epoch 2/49\n",
      "15/15 [==============================] - 0s 3ms/step - loss: 38.6473 - mae: 6.0993 - val_loss: 35.1974 - val_mae: 5.8256\n",
      "Epoch 3/49\n",
      "15/15 [==============================] - 0s 3ms/step - loss: 26.0173 - mae: 4.9471 - val_loss: 21.2023 - val_mae: 4.4416\n",
      "Epoch 4/49\n",
      "15/15 [==============================] - 0s 3ms/step - loss: 13.0421 - mae: 3.3638 - val_loss: 8.5174 - val_mae: 2.5833\n",
      "Epoch 5/49\n",
      "15/15 [==============================] - 0s 3ms/step - loss: 4.2492 - mae: 1.7661 - val_loss: 2.2758 - val_mae: 1.3542\n",
      "Epoch 6/49\n",
      "15/15 [==============================] - 0s 3ms/step - loss: 1.6355 - mae: 0.9989 - val_loss: 1.2243 - val_mae: 0.8445\n",
      "Epoch 7/49\n",
      "15/15 [==============================] - 0s 3ms/step - loss: 1.1403 - mae: 0.7856 - val_loss: 0.8010 - val_mae: 0.6839\n",
      "Epoch 8/49\n",
      "15/15 [==============================] - 0s 3ms/step - loss: 0.7337 - mae: 0.6368 - val_loss: 0.6210 - val_mae: 0.5804\n",
      "Epoch 9/49\n",
      "15/15 [==============================] - 0s 3ms/step - loss: 0.5615 - mae: 0.5294 - val_loss: 0.4657 - val_mae: 0.4803\n",
      "Epoch 10/49\n",
      "15/15 [==============================] - 0s 3ms/step - loss: 0.4517 - mae: 0.4490 - val_loss: 0.3898 - val_mae: 0.4235\n",
      "Epoch 11/49\n",
      "15/15 [==============================] - 0s 3ms/step - loss: 0.3722 - mae: 0.3863 - val_loss: 0.3299 - val_mae: 0.3720\n",
      "Epoch 12/49\n",
      "15/15 [==============================] - 0s 3ms/step - loss: 0.3234 - mae: 0.3527 - val_loss: 0.2789 - val_mae: 0.3343\n",
      "Epoch 13/49\n",
      "15/15 [==============================] - 0s 3ms/step - loss: 0.2782 - mae: 0.3141 - val_loss: 0.2589 - val_mae: 0.3075\n",
      "Epoch 14/49\n",
      "15/15 [==============================] - 0s 3ms/step - loss: 0.2505 - mae: 0.2906 - val_loss: 0.2237 - val_mae: 0.2895\n",
      "Epoch 15/49\n",
      "15/15 [==============================] - 0s 3ms/step - loss: 0.2155 - mae: 0.2743 - val_loss: 0.2085 - val_mae: 0.2794\n",
      "Epoch 16/49\n",
      "15/15 [==============================] - 0s 3ms/step - loss: 0.1947 - mae: 0.2569 - val_loss: 0.1875 - val_mae: 0.2608\n",
      "Epoch 17/49\n",
      "15/15 [==============================] - 0s 3ms/step - loss: 0.1769 - mae: 0.2584 - val_loss: 0.1667 - val_mae: 0.2550\n",
      "Epoch 18/49\n",
      "15/15 [==============================] - 0s 3ms/step - loss: 0.1552 - mae: 0.2375 - val_loss: 0.1564 - val_mae: 0.2462\n",
      "Epoch 19/49\n",
      "15/15 [==============================] - 0s 3ms/step - loss: 0.1422 - mae: 0.2302 - val_loss: 0.1453 - val_mae: 0.2398\n",
      "Epoch 20/49\n",
      "15/15 [==============================] - 0s 3ms/step - loss: 0.1271 - mae: 0.2179 - val_loss: 0.1311 - val_mae: 0.2259\n",
      "Epoch 21/49\n",
      "15/15 [==============================] - 0s 3ms/step - loss: 0.1160 - mae: 0.2072 - val_loss: 0.1251 - val_mae: 0.2239\n",
      "Epoch 22/49\n",
      "15/15 [==============================] - 0s 3ms/step - loss: 0.1069 - mae: 0.2032 - val_loss: 0.1133 - val_mae: 0.2079\n",
      "Epoch 23/49\n",
      "15/15 [==============================] - 0s 3ms/step - loss: 0.0969 - mae: 0.1913 - val_loss: 0.1080 - val_mae: 0.2081\n",
      "Epoch 24/49\n",
      "15/15 [==============================] - 0s 3ms/step - loss: 0.0910 - mae: 0.1861 - val_loss: 0.0977 - val_mae: 0.1938\n",
      "Epoch 25/49\n",
      "15/15 [==============================] - 0s 3ms/step - loss: 0.0842 - mae: 0.1787 - val_loss: 0.0926 - val_mae: 0.1857\n",
      "Epoch 26/49\n",
      "15/15 [==============================] - 0s 3ms/step - loss: 0.0780 - mae: 0.1736 - val_loss: 0.0848 - val_mae: 0.1807\n",
      "Epoch 27/49\n",
      "15/15 [==============================] - 0s 3ms/step - loss: 0.0732 - mae: 0.1642 - val_loss: 0.0832 - val_mae: 0.1750\n",
      "Epoch 28/49\n",
      "15/15 [==============================] - 0s 3ms/step - loss: 0.0691 - mae: 0.1638 - val_loss: 0.0764 - val_mae: 0.1676\n",
      "Epoch 29/49\n",
      "15/15 [==============================] - 0s 3ms/step - loss: 0.0644 - mae: 0.1529 - val_loss: 0.0724 - val_mae: 0.1652\n",
      "Epoch 30/49\n",
      "15/15 [==============================] - 0s 3ms/step - loss: 0.0601 - mae: 0.1451 - val_loss: 0.0683 - val_mae: 0.1496\n",
      "Epoch 31/49\n",
      "15/15 [==============================] - 0s 3ms/step - loss: 0.0576 - mae: 0.1414 - val_loss: 0.0641 - val_mae: 0.1505\n",
      "Epoch 32/49\n",
      "15/15 [==============================] - 0s 3ms/step - loss: 0.0532 - mae: 0.1351 - val_loss: 0.0619 - val_mae: 0.1437\n",
      "Epoch 33/49\n",
      "15/15 [==============================] - 0s 3ms/step - loss: 0.0511 - mae: 0.1314 - val_loss: 0.0593 - val_mae: 0.1400\n",
      "Epoch 34/49\n",
      "15/15 [==============================] - 0s 3ms/step - loss: 0.0488 - mae: 0.1284 - val_loss: 0.0586 - val_mae: 0.1382\n",
      "Epoch 35/49\n",
      "15/15 [==============================] - 0s 3ms/step - loss: 0.0480 - mae: 0.1231 - val_loss: 0.0534 - val_mae: 0.1309\n",
      "Epoch 36/49\n",
      "15/15 [==============================] - 0s 3ms/step - loss: 0.0456 - mae: 0.1207 - val_loss: 0.0528 - val_mae: 0.1284\n",
      "Epoch 37/49\n",
      "15/15 [==============================] - 0s 3ms/step - loss: 0.0432 - mae: 0.1148 - val_loss: 0.0498 - val_mae: 0.1253\n",
      "Epoch 38/49\n",
      "15/15 [==============================] - 0s 3ms/step - loss: 0.0427 - mae: 0.1148 - val_loss: 0.0505 - val_mae: 0.1285\n",
      "Epoch 39/49\n",
      "15/15 [==============================] - 0s 3ms/step - loss: 0.0416 - mae: 0.1146 - val_loss: 0.0483 - val_mae: 0.1201\n",
      "Epoch 40/49\n",
      "15/15 [==============================] - 0s 3ms/step - loss: 0.0397 - mae: 0.1110 - val_loss: 0.0457 - val_mae: 0.1232\n",
      "Epoch 41/49\n",
      "15/15 [==============================] - 0s 3ms/step - loss: 0.0407 - mae: 0.1115 - val_loss: 0.0466 - val_mae: 0.1141\n",
      "Epoch 42/49\n",
      "15/15 [==============================] - 0s 3ms/step - loss: 0.0393 - mae: 0.1147 - val_loss: 0.0426 - val_mae: 0.1129\n",
      "Epoch 43/49\n",
      "15/15 [==============================] - 0s 3ms/step - loss: 0.0379 - mae: 0.1057 - val_loss: 0.0432 - val_mae: 0.1116\n",
      "Epoch 44/49\n",
      "15/15 [==============================] - 0s 3ms/step - loss: 0.0347 - mae: 0.0996 - val_loss: 0.0398 - val_mae: 0.1145\n",
      "Epoch 45/49\n",
      "15/15 [==============================] - 0s 3ms/step - loss: 0.0342 - mae: 0.0947 - val_loss: 0.0415 - val_mae: 0.1090\n",
      "Epoch 46/49\n",
      "15/15 [==============================] - 0s 3ms/step - loss: 0.0331 - mae: 0.0938 - val_loss: 0.0397 - val_mae: 0.1046\n",
      "Epoch 47/49\n",
      "15/15 [==============================] - 0s 3ms/step - loss: 0.0327 - mae: 0.0926 - val_loss: 0.0390 - val_mae: 0.1088\n",
      "Epoch 48/49\n",
      "15/15 [==============================] - 0s 3ms/step - loss: 0.0333 - mae: 0.0991 - val_loss: 0.0411 - val_mae: 0.1117\n",
      "Epoch 49/49\n",
      "15/15 [==============================] - 0s 3ms/step - loss: 0.0326 - mae: 0.0976 - val_loss: 0.0374 - val_mae: 0.1031\n",
      "3/3 [==============================] - 0s 1ms/step\n",
      "\n",
      " Evaluation Metrics:\n",
      "Mean Squared Error (MSE): 0.038\n",
      "Mean Absolute Error (MAE): 0.083\n",
      "R-squared (R²): 0.970\n"
     ]
    },
    {
     "data": {
      "image/png": "[encoded data removed]",
      "text/plain": [
       "<Figure size 576x432 with 1 Axes>"
      ]
     },
     "metadata": {
      "needs_background": "light"
     },
     "output_type": "display_data"
    },
    {
     "data": {
      "image/png": "[encoded data removed]",
      "text/plain": [
       "<Figure size 576x360 with 1 Axes>"
      ]
     },
     "metadata": {
      "needs_background": "light"
     },
     "output_type": "display_data"
    }
   ],
   "source": [
    "# Sleep Quality Prediction using Keras by Regression\n",
    "\n",
    "# Libraries\n",
    "from sklearn.metrics import mean_squared_error, mean_absolute_error, r2_score\n",
    "\n",
    "# Define Input and Target\n",
    "# Target: Quality of Sleep by regression\n",
    "y = df['Quality of Sleep']\n",
    "\n",
    "# Select lifestyle-related features as input\n",
    "features = [\n",
    "    'Sleep Duration',\n",
    "    'Physical Activity Level',\n",
    "    'Stress Level',\n",
    "    'Heart Rate',\n",
    "    'Daily Steps',\n",
    "    'BMI Category',\n",
    "    'Gender',\n",
    "    'Occupation'\n",
    "]\n",
    "X = df[features]\n",
    "\n",
    "# Define Preprocessing\n",
    "categorical_features = ['BMI Category', 'Gender', 'Occupation']\n",
    "numerical_features = [col for col in X.columns if col not in categorical_features]\n",
    "\n",
    "preprocessor = ColumnTransformer(transformers=[\n",
    "    ('num', StandardScaler(), numerical_features),\n",
    "    ('cat', OneHotEncoder(handle_unknown='ignore'), categorical_features)\n",
    "])\n",
    "\n",
    "X_processed = preprocessor.fit_transform(X)\n",
    "\n",
    "# Train/Test Split\n",
    "X_train, X_test, y_train, y_test = train_test_split(X_processed, y, test_size=0.2, random_state=123)\n",
    "\n",
    "# Build Regression Model\n",
    "model = Sequential([\n",
    "    Dense(64, activation='relu', input_shape=(X_train.shape[1],)),\n",
    "    Dense(32, activation='relu'),\n",
    "    Dense(1)  # Output layer for regression (1 value)\n",
    "])\n",
    "\n",
    "model.compile(optimizer='adam', loss='mean_squared_error', metrics=['mae'])\n",
    "\n",
    "# Train the Model\n",
    "history = model.fit(X_train, y_train, epochs=49, batch_size=16, validation_split=0.2, verbose=1)\n",
    "\n",
    "# Evaluate Model\n",
    "y_pred = model.predict(X_test).flatten()\n",
    "\n",
    "mse = mean_squared_error(y_test, y_pred)\n",
    "mae = mean_absolute_error(y_test, y_pred)\n",
    "r2 = r2_score(y_test, y_pred)\n",
    "\n",
    "print(f\"\\n Evaluation Metrics:\")\n",
    "print(f\"Mean Squared Error (MSE): {mse:.3f}\")\n",
    "print(f\"Mean Absolute Error (MAE): {mae:.3f}\")\n",
    "print(f\"R-squared (R²): {r2:.3f}\")\n",
    "\n",
    "# Visualization for True vs Predicted\n",
    "plt.figure(figsize=(8, 6))\n",
    "sns.scatterplot(x=y_test, y=y_pred)\n",
    "plt.plot([y.min(), y.max()], [y.min(), y.max()], 'r--')\n",
    "plt.xlabel(\"Actual Quality of Sleep\")\n",
    "plt.ylabel(\"Predicted Quality of Sleep\")\n",
    "plt.title(\"Actual vs Predicted Sleep Quality\")\n",
    "plt.grid(True)\n",
    "plt.tight_layout()\n",
    "plt.show()\n",
    "\n",
    "# Visualization: Training Loss\n",
    "plt.figure(figsize=(8, 5))\n",
    "plt.plot(history.history['loss'], label='Training Loss')\n",
    "plt.plot(history.history['val_loss'], label='Validation Loss')\n",
    "plt.title('Training & Validation Loss over Epochs')\n",
    "plt.xlabel('Epoch')\n",
    "plt.ylabel('Loss (MSE)')\n",
    "plt.legend()\n",
    "plt.grid(True)\n",
    "plt.tight_layout()\n",
    "plt.show()"
   ]
  },
  {
   "cell_type": "markdown",
   "id": "2bd47b56",
   "metadata": {},
   "source": [
    "The MSE is 0.038, which shows the squaring penalizes larger errors more heavily. MSE here also states, on average, the model's predictions are very close to the true values. \n",
    "\n",
    "MAE of 0.083 means that on average, the predictions are off by just 0.08 points on the 1–10 sleep quality scale, which shows the final result is excellent.\n",
    "\n",
    "And finally, the R² of 0.970 says that 97% of the variability in sleep quality is explained by the model. This also suggests an exceptionally strong model fit."
   ]
  },
  {
   "cell_type": "markdown",
   "id": "34bdf442",
   "metadata": {},
   "source": [
    "Then from the plotted Actual vs. Predicted Sleep Quality figure, we can see that:\n",
    "\n",
    "The points near the red line, which show these predictions are very accurate. And most of the predictions fall very close to the red line, which means the model is doing an excellent job.\n",
    "\n",
    "Per the vertical distance from the line. The vertical gap between a point and the red line is the prediction error for that sample. In this plot, errors are small, indicating high precision.\n",
    "\n",
    "By the trends by value. The model predicts well across the full range from 4 to 9. And there's no obvious bias, like consistently under or overestimating."
   ]
  },
  {
   "cell_type": "markdown",
   "id": "176ac2ad",
   "metadata": {},
   "source": [
    "And in the next training & validation loss voer epochs figure, we can also tell that:"
   ]
  },
  {
   "cell_type": "markdown",
   "id": "0538d30e",
   "metadata": {},
   "source": [
    "Per the steep initial drop, which is Epochs from 0 to 10. Both training and validation loss drop sharply in the first few epochs. This shows the model is learning quickly from the data early on. And MSE drops from around 50 to below 1, indicating significant improvement.\n",
    "\n",
    "Then, when jump step into the flattening after Epoch 10. After about 10 epochs, both curves flatten, indicating the model is converging. Loss stabilizes around 0.03 to 0.04, which matches the earlier reported MSE. \n",
    "\n",
    "In this epoch figure, there is no overfitting detected. Validation loss follows training loss very closely, with no significant gap between the two. This means the model generalizes well. It performs consistently on both training and unseen validation data.\n",
    "\n",
    "So, we can indicate that our model got trained efficiently, generalized well and does not overfit. This also shows the model achieves excellent performance."
   ]
  }
 ],
 "metadata": {
  "kernelspec": {
   "display_name": "Python 3",
   "language": "python",
   "name": "python3"
  },
  "language_info": {
   "codemirror_mode": {
    "name": "ipython",
    "version": 3
   },
   "file_extension": ".py",
   "mimetype": "text/x-python",
   "name": "python",
   "nbconvert_exporter": "python",
   "pygments_lexer": "ipython3",
   "version": "3.7.6"
  }
 },
 "nbformat": 4,
 "nbformat_minor": 5
}
